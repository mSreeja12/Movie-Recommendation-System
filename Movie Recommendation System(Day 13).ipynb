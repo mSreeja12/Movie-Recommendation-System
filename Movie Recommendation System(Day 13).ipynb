{
 "cells": [
  {
   "cell_type": "code",
   "execution_count": 2,
   "id": "97716106",
   "metadata": {},
   "outputs": [],
   "source": [
    "#Recommendation Systems can be classified into 3 main categories\n",
    "#content based     popularity based   collaborative based\n",
    "\n",
    "#Here we will implement popularity based recommendation system"
   ]
  },
  {
   "cell_type": "code",
   "execution_count": 3,
   "id": "e5e528c0",
   "metadata": {},
   "outputs": [],
   "source": [
    "import numpy as np\n",
    "import pandas as pd\n",
    "import difflib\n",
    "from sklearn.feature_extraction.text import TfidfVectorizer\n",
    "from sklearn.metrics.pairwise import cosine_similarity"
   ]
  },
  {
   "cell_type": "code",
   "execution_count": 4,
   "id": "b7e82368",
   "metadata": {},
   "outputs": [],
   "source": [
    "df = pd.read_csv('movies.csv')"
   ]
  },
  {
   "cell_type": "code",
   "execution_count": 5,
   "id": "5dae1095",
   "metadata": {},
   "outputs": [
    {
     "data": {
      "text/html": [
       "<div>\n",
       "<style scoped>\n",
       "    .dataframe tbody tr th:only-of-type {\n",
       "        vertical-align: middle;\n",
       "    }\n",
       "\n",
       "    .dataframe tbody tr th {\n",
       "        vertical-align: top;\n",
       "    }\n",
       "\n",
       "    .dataframe thead th {\n",
       "        text-align: right;\n",
       "    }\n",
       "</style>\n",
       "<table border=\"1\" class=\"dataframe\">\n",
       "  <thead>\n",
       "    <tr style=\"text-align: right;\">\n",
       "      <th></th>\n",
       "      <th>name</th>\n",
       "      <th>rating</th>\n",
       "      <th>genre</th>\n",
       "      <th>year</th>\n",
       "      <th>released</th>\n",
       "      <th>score</th>\n",
       "      <th>votes</th>\n",
       "      <th>director</th>\n",
       "      <th>writer</th>\n",
       "      <th>star</th>\n",
       "      <th>country</th>\n",
       "      <th>budget</th>\n",
       "      <th>gross</th>\n",
       "      <th>company</th>\n",
       "      <th>runtime</th>\n",
       "    </tr>\n",
       "  </thead>\n",
       "  <tbody>\n",
       "    <tr>\n",
       "      <th>0</th>\n",
       "      <td>The Shining</td>\n",
       "      <td>R</td>\n",
       "      <td>Drama</td>\n",
       "      <td>1980</td>\n",
       "      <td>June 13, 1980 (United States)</td>\n",
       "      <td>8.4</td>\n",
       "      <td>927000.0</td>\n",
       "      <td>Stanley Kubrick</td>\n",
       "      <td>Stephen King</td>\n",
       "      <td>Jack Nicholson</td>\n",
       "      <td>United Kingdom</td>\n",
       "      <td>19000000.0</td>\n",
       "      <td>46998772.0</td>\n",
       "      <td>Warner Bros.</td>\n",
       "      <td>146.0</td>\n",
       "    </tr>\n",
       "    <tr>\n",
       "      <th>1</th>\n",
       "      <td>The Blue Lagoon</td>\n",
       "      <td>R</td>\n",
       "      <td>Adventure</td>\n",
       "      <td>1980</td>\n",
       "      <td>July 2, 1980 (United States)</td>\n",
       "      <td>5.8</td>\n",
       "      <td>65000.0</td>\n",
       "      <td>Randal Kleiser</td>\n",
       "      <td>Henry De Vere Stacpoole</td>\n",
       "      <td>Brooke Shields</td>\n",
       "      <td>United States</td>\n",
       "      <td>4500000.0</td>\n",
       "      <td>58853106.0</td>\n",
       "      <td>Columbia Pictures</td>\n",
       "      <td>104.0</td>\n",
       "    </tr>\n",
       "    <tr>\n",
       "      <th>2</th>\n",
       "      <td>Star Wars: Episode V - The Empire Strikes Back</td>\n",
       "      <td>PG</td>\n",
       "      <td>Action</td>\n",
       "      <td>1980</td>\n",
       "      <td>June 20, 1980 (United States)</td>\n",
       "      <td>8.7</td>\n",
       "      <td>1200000.0</td>\n",
       "      <td>Irvin Kershner</td>\n",
       "      <td>Leigh Brackett</td>\n",
       "      <td>Mark Hamill</td>\n",
       "      <td>United States</td>\n",
       "      <td>18000000.0</td>\n",
       "      <td>538375067.0</td>\n",
       "      <td>Lucasfilm</td>\n",
       "      <td>124.0</td>\n",
       "    </tr>\n",
       "    <tr>\n",
       "      <th>3</th>\n",
       "      <td>Airplane!</td>\n",
       "      <td>PG</td>\n",
       "      <td>Comedy</td>\n",
       "      <td>1980</td>\n",
       "      <td>July 2, 1980 (United States)</td>\n",
       "      <td>7.7</td>\n",
       "      <td>221000.0</td>\n",
       "      <td>Jim Abrahams</td>\n",
       "      <td>Jim Abrahams</td>\n",
       "      <td>Robert Hays</td>\n",
       "      <td>United States</td>\n",
       "      <td>3500000.0</td>\n",
       "      <td>83453539.0</td>\n",
       "      <td>Paramount Pictures</td>\n",
       "      <td>88.0</td>\n",
       "    </tr>\n",
       "    <tr>\n",
       "      <th>4</th>\n",
       "      <td>Caddyshack</td>\n",
       "      <td>R</td>\n",
       "      <td>Comedy</td>\n",
       "      <td>1980</td>\n",
       "      <td>July 25, 1980 (United States)</td>\n",
       "      <td>7.3</td>\n",
       "      <td>108000.0</td>\n",
       "      <td>Harold Ramis</td>\n",
       "      <td>Brian Doyle-Murray</td>\n",
       "      <td>Chevy Chase</td>\n",
       "      <td>United States</td>\n",
       "      <td>6000000.0</td>\n",
       "      <td>39846344.0</td>\n",
       "      <td>Orion Pictures</td>\n",
       "      <td>98.0</td>\n",
       "    </tr>\n",
       "  </tbody>\n",
       "</table>\n",
       "</div>"
      ],
      "text/plain": [
       "                                             name rating      genre  year  \\\n",
       "0                                     The Shining      R      Drama  1980   \n",
       "1                                 The Blue Lagoon      R  Adventure  1980   \n",
       "2  Star Wars: Episode V - The Empire Strikes Back     PG     Action  1980   \n",
       "3                                       Airplane!     PG     Comedy  1980   \n",
       "4                                      Caddyshack      R     Comedy  1980   \n",
       "\n",
       "                        released  score      votes         director  \\\n",
       "0  June 13, 1980 (United States)    8.4   927000.0  Stanley Kubrick   \n",
       "1   July 2, 1980 (United States)    5.8    65000.0   Randal Kleiser   \n",
       "2  June 20, 1980 (United States)    8.7  1200000.0   Irvin Kershner   \n",
       "3   July 2, 1980 (United States)    7.7   221000.0     Jim Abrahams   \n",
       "4  July 25, 1980 (United States)    7.3   108000.0     Harold Ramis   \n",
       "\n",
       "                    writer            star         country      budget  \\\n",
       "0             Stephen King  Jack Nicholson  United Kingdom  19000000.0   \n",
       "1  Henry De Vere Stacpoole  Brooke Shields   United States   4500000.0   \n",
       "2           Leigh Brackett     Mark Hamill   United States  18000000.0   \n",
       "3             Jim Abrahams     Robert Hays   United States   3500000.0   \n",
       "4       Brian Doyle-Murray     Chevy Chase   United States   6000000.0   \n",
       "\n",
       "         gross             company  runtime  \n",
       "0   46998772.0        Warner Bros.    146.0  \n",
       "1   58853106.0   Columbia Pictures    104.0  \n",
       "2  538375067.0           Lucasfilm    124.0  \n",
       "3   83453539.0  Paramount Pictures     88.0  \n",
       "4   39846344.0      Orion Pictures     98.0  "
      ]
     },
     "execution_count": 5,
     "metadata": {},
     "output_type": "execute_result"
    }
   ],
   "source": [
    "df.head(5)"
   ]
  },
  {
   "cell_type": "code",
   "execution_count": 6,
   "id": "eacc0e97",
   "metadata": {},
   "outputs": [
    {
     "data": {
      "text/plain": [
       "(7668, 15)"
      ]
     },
     "execution_count": 6,
     "metadata": {},
     "output_type": "execute_result"
    }
   ],
   "source": [
    "df.shape"
   ]
  },
  {
   "cell_type": "code",
   "execution_count": 7,
   "id": "fbbb9414",
   "metadata": {},
   "outputs": [
    {
     "name": "stdout",
     "output_type": "stream",
     "text": [
      "['rating', 'genre', 'name', 'director', 'score', 'votes']\n"
     ]
    }
   ],
   "source": [
    "selected_features = ['rating','genre','name','director','score','votes']\n",
    "print(selected_features)"
   ]
  },
  {
   "cell_type": "code",
   "execution_count": 9,
   "id": "117cf9dc",
   "metadata": {},
   "outputs": [
    {
     "data": {
      "text/plain": [
       "name           0\n",
       "rating        77\n",
       "genre          0\n",
       "year           0\n",
       "released       2\n",
       "score          3\n",
       "votes          3\n",
       "director       0\n",
       "writer         3\n",
       "star           1\n",
       "country        3\n",
       "budget      2171\n",
       "gross        189\n",
       "company       17\n",
       "runtime        4\n",
       "dtype: int64"
      ]
     },
     "execution_count": 9,
     "metadata": {},
     "output_type": "execute_result"
    }
   ],
   "source": [
    "df.isnull().sum()"
   ]
  },
  {
   "cell_type": "code",
   "execution_count": 12,
   "id": "2787f788",
   "metadata": {},
   "outputs": [],
   "source": [
    "for feature in selected_features:\n",
    "    df[feature] = df[feature].fillna('')"
   ]
  },
  {
   "cell_type": "code",
   "execution_count": 13,
   "id": "8b6a7217",
   "metadata": {},
   "outputs": [
    {
     "data": {
      "text/plain": [
       "name           0\n",
       "rating         0\n",
       "genre          0\n",
       "year           0\n",
       "released       2\n",
       "score          0\n",
       "votes          0\n",
       "director       0\n",
       "writer         3\n",
       "star           1\n",
       "country        3\n",
       "budget      2171\n",
       "gross        189\n",
       "company       17\n",
       "runtime        4\n",
       "dtype: int64"
      ]
     },
     "execution_count": 13,
     "metadata": {},
     "output_type": "execute_result"
    }
   ],
   "source": [
    "df.isnull().sum()"
   ]
  },
  {
   "cell_type": "code",
   "execution_count": 16,
   "id": "dd3e63e6",
   "metadata": {},
   "outputs": [
    {
     "name": "stdout",
     "output_type": "stream",
     "text": [
      "0          Drama Stanley Kubrick\n",
      "1       Adventure Randal Kleiser\n",
      "2          Action Irvin Kershner\n",
      "3            Comedy Jim Abrahams\n",
      "4            Comedy Harold Ramis\n",
      "                  ...           \n",
      "7663         Drama Joseph Ebanks\n",
      "7664         Comedy Dusty Dukatz\n",
      "7665          Drama Nkanya Nkwai\n",
      "7666         Drama James Randall\n",
      "7667         Horror Pereko Mosia\n",
      "Length: 7668, dtype: object\n"
     ]
    }
   ],
   "source": [
    "combined_features = df['genre']+' '+df['director']\n",
    "print(combined_features)"
   ]
  },
  {
   "cell_type": "code",
   "execution_count": 17,
   "id": "28fe7b60",
   "metadata": {},
   "outputs": [],
   "source": [
    "vectorizer = TfidfVectorizer()"
   ]
  },
  {
   "cell_type": "raw",
   "id": "11cc65c9",
   "metadata": {},
   "source": []
  },
  {
   "cell_type": "code",
   "execution_count": 19,
   "id": "ea81d2cf",
   "metadata": {},
   "outputs": [
    {
     "name": "stdout",
     "output_type": "stream",
     "text": [
      "  (0, 1843)\t0.7310326090490687\n",
      "  (0, 3038)\t0.6446272179738416\n",
      "  (0, 893)\t0.2237120344420853\n",
      "  (1, 1801)\t0.6664377411257473\n",
      "  (1, 2640)\t0.6664377411257473\n",
      "  (1, 34)\t0.3342476243841129\n",
      "  (2, 1767)\t0.7326236054535132\n",
      "  (2, 1539)\t0.6460301643996345\n",
      "  (2, 20)\t0.21426077433369853\n",
      "  (3, 12)\t0.7729778050078491\n",
      "  (3, 1628)\t0.5942167178304802\n",
      "  (3, 653)\t0.22228766321147675\n",
      "  (4, 2632)\t0.720923162061851\n",
      "  (4, 1368)\t0.6603754320048295\n",
      "  (4, 653)\t0.21017631457225772\n",
      "  (5, 724)\t0.7205020082012832\n",
      "  (5, 2881)\t0.5875857088048887\n",
      "  (5, 1488)\t0.368266060051934\n",
      "  (6, 1877)\t0.8342708669997094\n",
      "  (6, 1647)\t0.47321066567016445\n",
      "  (6, 20)\t0.2829554494466448\n",
      "  (7, 2877)\t0.7043639015524631\n",
      "  (7, 2106)\t0.5930098162372259\n",
      "  (7, 351)\t0.3901420921101488\n",
      "  (8, 1937)\t0.8011848300027395\n",
      "  :\t:\n",
      "  (7659, 1771)\t0.5027771048530024\n",
      "  (7659, 1488)\t0.35500788833953284\n",
      "  (7660, 2842)\t0.7072038395120096\n",
      "  (7660, 3042)\t0.684205614919884\n",
      "  (7660, 653)\t0.17811627070982355\n",
      "  (7661, 1831)\t0.7817201754786246\n",
      "  (7661, 1691)\t0.5830433119818926\n",
      "  (7661, 893)\t0.2213008441078657\n",
      "  (7662, 847)\t0.9346169555209506\n",
      "  (7662, 20)\t0.355655938306602\n",
      "  (7663, 929)\t0.7868630719075259\n",
      "  (7663, 1666)\t0.5755223080833543\n",
      "  (7663, 893)\t0.22275677086602869\n",
      "  (7664, 905)\t0.6970722896717637\n",
      "  (7664, 920)\t0.6970722896717637\n",
      "  (7664, 653)\t0.16787032478532146\n",
      "  (7665, 2389)\t0.6933514762027211\n",
      "  (7665, 2388)\t0.6933514762027211\n",
      "  (7665, 893)\t0.196284133069932\n",
      "  (7666, 2641)\t0.8042426063962537\n",
      "  (7666, 1573)\t0.5265216745254567\n",
      "  (7666, 893)\t0.27562430283244177\n",
      "  (7667, 2283)\t0.6737578504381299\n",
      "  (7667, 2521)\t0.6737578504381299\n",
      "  (7667, 1488)\t0.30348100096378566\n"
     ]
    }
   ],
   "source": [
    "feature_vectors = vectorizer.fit_transform(combined_features)\n",
    "print(feature_vectors)"
   ]
  },
  {
   "cell_type": "code",
   "execution_count": 20,
   "id": "a658ffdd",
   "metadata": {},
   "outputs": [
    {
     "name": "stdout",
     "output_type": "stream",
     "text": [
      "[[1.         0.         0.         ... 0.04391112 0.06166047 0.        ]\n",
      " [0.         1.         0.         ... 0.         0.         0.        ]\n",
      " [0.         0.         1.         ... 0.         0.         0.        ]\n",
      " ...\n",
      " [0.04391112 0.         0.         ... 1.         0.05410068 0.        ]\n",
      " [0.06166047 0.         0.         ... 0.05410068 1.         0.        ]\n",
      " [0.         0.         0.         ... 0.         0.         1.        ]]\n"
     ]
    }
   ],
   "source": [
    "similarity = cosine_similarity(feature_vectors)\n",
    "print(similarity)"
   ]
  },
  {
   "cell_type": "code",
   "execution_count": 21,
   "id": "e8b6f322",
   "metadata": {},
   "outputs": [
    {
     "name": "stdout",
     "output_type": "stream",
     "text": [
      "(7668, 7668)\n"
     ]
    }
   ],
   "source": [
    "print(similarity.shape)"
   ]
  },
  {
   "cell_type": "code",
   "execution_count": 27,
   "id": "162714a1",
   "metadata": {},
   "outputs": [
    {
     "name": "stdout",
     "output_type": "stream",
     "text": [
      "Enter your favourite movie name Iron Man\n",
      "['Iron Man', 'Iron Man 3', 'Iron Man 2']\n",
      "Iron Man\n"
     ]
    }
   ],
   "source": [
    "movie_name = input(\"Enter your favourite movie name \")\n",
    "list_of_titles = df['name'].tolist()\n",
    "\n",
    "find_close_match = difflib.get_close_matches(movie_name,list_of_titles)\n",
    "print(find_close_match)\n",
    "\n",
    "close_match = find_close_match[0]\n",
    "print(close_match)\n",
    "movie_index = df[df['name'] == close_match].index.values[0]"
   ]
  },
  {
   "cell_type": "code",
   "execution_count": 28,
   "id": "0a3409f9",
   "metadata": {},
   "outputs": [
    {
     "name": "stdout",
     "output_type": "stream",
     "text": [
      "Movies similar to 'Iron Man':\n",
      "Iron Man\n",
      "Iron Man 2\n",
      "Cowboys & Aliens\n",
      "Made\n",
      "Elf\n",
      "Chef\n",
      "The Jungle Book\n",
      "The Lion King\n",
      "3 Ninjas\n",
      "National Treasure\n"
     ]
    }
   ],
   "source": [
    "similarity_score = list(enumerate(similarity[movie_index]))\n",
    "sorted_similar_movies = sorted(similarity_score, key=lambda x: x[1], reverse=True)\n",
    "top_n = 10  \n",
    "print(f\"Movies similar to '{close_match}':\")\n",
    "for i in range(1, top_n + 1):\n",
    "    index = sorted_similar_movies[i][0]\n",
    "    print(df['name'][index])\n"
   ]
  },
  {
   "cell_type": "markdown",
   "id": "8bed01ad",
   "metadata": {},
   "source": [
    "# Recommendation System\n"
   ]
  },
  {
   "cell_type": "code",
   "execution_count": 29,
   "id": "fcd1808c",
   "metadata": {},
   "outputs": [
    {
     "name": "stdout",
     "output_type": "stream",
     "text": [
      "Enter your favourite movie name avatar\n",
      "Movies similar to 'Avatar':\n",
      "Aliens\n",
      "Terminator 2: Judgment Day\n",
      "True Lies\n",
      "Avatar\n",
      "Titanic\n",
      "The Abyss\n",
      "Fast Talking\n",
      "Say Anything\n",
      "Singles\n",
      "Jerry Maguire\n"
     ]
    }
   ],
   "source": [
    "movie_name = input(\"Enter your favourite movie name \")\n",
    "list_of_titles = df['name'].tolist()\n",
    "find_close_match = difflib.get_close_matches(movie_name,list_of_titles)\n",
    "close_match = find_close_match[0]\n",
    "movie_index = df[df['name'] == close_match].index.values[0]\n",
    "\n",
    "similarity_score = list(enumerate(similarity[movie_index]))\n",
    "sorted_similar_movies = sorted(similarity_score, key=lambda x: x[1], reverse=True)\n",
    "top_n = 10  \n",
    "print(f\"Movies similar to '{close_match}':\")\n",
    "for i in range(1, top_n + 1):\n",
    "    index = sorted_similar_movies[i][0]\n",
    "    print(df['name'][index])\n"
   ]
  },
  {
   "cell_type": "code",
   "execution_count": null,
   "id": "28d8934e",
   "metadata": {},
   "outputs": [],
   "source": []
  }
 ],
 "metadata": {
  "kernelspec": {
   "display_name": "Python 3 (ipykernel)",
   "language": "python",
   "name": "python3"
  },
  "language_info": {
   "codemirror_mode": {
    "name": "ipython",
    "version": 3
   },
   "file_extension": ".py",
   "mimetype": "text/x-python",
   "name": "python",
   "nbconvert_exporter": "python",
   "pygments_lexer": "ipython3",
   "version": "3.11.4"
  }
 },
 "nbformat": 4,
 "nbformat_minor": 5
}
